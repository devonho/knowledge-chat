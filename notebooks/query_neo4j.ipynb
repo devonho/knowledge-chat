{
 "cells": [
  {
   "cell_type": "code",
   "execution_count": 37,
   "id": "72ff5b9b-f12b-47e5-b3ac-9be8f7224b11",
   "metadata": {},
   "outputs": [],
   "source": [
    "import os\n",
    "from dotenv import load_dotenv\n",
    "from langchain_neo4j import GraphCypherQAChain, Neo4jGraph\n",
    "from langchain_anthropic import ChatAnthropic\n",
    "#from langchain_openai import ChatOpenAI\n",
    "from langchain_core.prompts.prompt import PromptTemplate"
   ]
  },
  {
   "cell_type": "code",
   "execution_count": 5,
   "id": "b1f49abe-f8ee-407c-af9a-d2c32277856b",
   "metadata": {},
   "outputs": [
    {
     "data": {
      "text/plain": [
       "True"
      ]
     },
     "execution_count": 5,
     "metadata": {},
     "output_type": "execute_result"
    }
   ],
   "source": [
    "load_dotenv()"
   ]
  },
  {
   "cell_type": "code",
   "execution_count": 11,
   "id": "60d9bfa2-4084-4988-a8a0-223724a14614",
   "metadata": {},
   "outputs": [],
   "source": [
    "graph = Neo4jGraph(\n",
    "    url=os.environ[\"NEO4J_URI\"],\n",
    "    username=os.environ[\"NEO4J_USERNAME\"],\n",
    "    password=os.environ[\"NEO4J_PASSWORD\"],\n",
    "    enhanced_schema=True,\n",
    ")\n",
    "#print(graph.schema)"
   ]
  },
  {
   "cell_type": "code",
   "execution_count": 48,
   "id": "53b30f85-b5c1-49ea-a695-db7bdb44e4f4",
   "metadata": {},
   "outputs": [
    {
     "name": "stdout",
     "output_type": "stream",
     "text": [
      "\n",
      "\n",
      "\u001b[1m> Entering new GraphCypherQAChain chain...\u001b[0m\n",
      "Generated Cypher:\n",
      "\u001b[32;1m\u001b[1;3mMATCH (p:Person)-[:HAS_SKILL]->(s:Skill {skillName: 'C++'})\n",
      "RETURN p.email\u001b[0m\n",
      "Full Context:\n",
      "\u001b[32;1m\u001b[1;3m[{'p.email': 'farrelljustin@example.org'}, {'p.email': 'ocohen@example.com'}, {'p.email': 'grussell@example.org'}, {'p.email': 'noah72@example.net'}, {'p.email': 'william66@example.com'}, {'p.email': 'timothyrichards@example.net'}, {'p.email': 'brendaperez@example.com'}, {'p.email': 'kenneth93@example.com'}, {'p.email': 'mitchellcrystal@example.com'}, {'p.email': 'fsmith@example.org'}]\u001b[0m\n",
      "\n",
      "\u001b[1m> Finished chain.\u001b[0m\n"
     ]
    },
    {
     "data": {
      "text/plain": [
       "{'query': 'Which persons have skills in C++? Please list their email addresses.',\n",
       " 'result': 'farrelljustin@example.org, ocohen@example.com, grussell@example.org, noah72@example.net, william66@example.com, timothyrichards@example.net, brendaperez@example.com, kenneth93@example.com, mitchellcrystal@example.com, fsmith@example.org'}"
      ]
     },
     "execution_count": 48,
     "metadata": {},
     "output_type": "execute_result"
    }
   ],
   "source": [
    "CYPHER_GENERATION_TEMPLATE = \"\"\"Task:Generate Cypher statement to query a graph database.\n",
    "Instructions:\n",
    "Use only the provided relationship types and properties in the schema.\n",
    "Do not use any other relationship types or properties that are not provided.\n",
    "Schema:\n",
    "{schema}\n",
    "Note: Do not include any explanations or apologies in your responses.\n",
    "Do not respond to any questions that might ask anything else than for you to construct a Cypher statement.\n",
    "Do not include any text except the generated Cypher statement.\n",
    "Examples: Here are a few examples of generated Cypher statements for particular questions:\n",
    "# Who had previously worked for IBM?\n",
    "MATCH (p:Person)-[r:WORKED_AT]->(c:Company {{companyName: 'IBM'}})\n",
    "RETURN p,r,c\n",
    "\n",
    "# Who is skilled in Linux?\n",
    "MATCH (p:Person)-[r:HAS_SKILL]->(s:Skill {{skillName: 'Linux'}})\n",
    "RETURN p,r,s\n",
    "\n",
    "# Who is skilled in Linux and SQL?\n",
    "MATCH (p:Person)-[r:HAS_SKILL]->(s:Skill {{skillName: 'Linux'|'SQL'}}))\n",
    "RETURN p,r,s\n",
    "\n",
    "\n",
    "The question is:\n",
    "{question}\"\"\"\n",
    "\n",
    "CYPHER_GENERATION_PROMPT = PromptTemplate(\n",
    "    input_variables=[\"schema\", \"question\"], template=CYPHER_GENERATION_TEMPLATE\n",
    ")\n",
    "\n",
    "chain = GraphCypherQAChain.from_llm(\n",
    "    ChatAnthropic(model=\"claude-3-sonnet-20240229\", temperature=0.1), \n",
    "    graph=graph, \n",
    "    verbose=True, \n",
    "    cypher_prompt=CYPHER_GENERATION_PROMPT,\n",
    "    allow_dangerous_requests=True\n",
    ")\n",
    "\n",
    "chain.invoke({\"query\": \"Which persons have skills in C++? Please list their email addresses.\"})"
   ]
  }
 ],
 "metadata": {
  "kernelspec": {
   "display_name": "pandas",
   "language": "python",
   "name": "pandas"
  },
  "language_info": {
   "codemirror_mode": {
    "name": "ipython",
    "version": 3
   },
   "file_extension": ".py",
   "mimetype": "text/x-python",
   "name": "python",
   "nbconvert_exporter": "python",
   "pygments_lexer": "ipython3",
   "version": "3.12.7"
  }
 },
 "nbformat": 4,
 "nbformat_minor": 5
}
