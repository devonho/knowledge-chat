{
 "cells": [
  {
   "cell_type": "markdown",
   "id": "aab634fe-5020-4562-9dbe-dd7d7d6930b9",
   "metadata": {},
   "source": [
    "# Setup"
   ]
  },
  {
   "cell_type": "code",
   "execution_count": 1,
   "id": "9fcb8d07-ac0c-4a22-9e56-81a2688da83c",
   "metadata": {},
   "outputs": [],
   "source": [
    "import os\n",
    "import dotenv\n",
    "from langchain_community.graphs import Neo4jGraph\n",
    "from langchain.chains import GraphCypherQAChain\n",
    "from langchain_openai import AzureChatOpenAI\n",
    "from dotenv import load_dotenv"
   ]
  },
  {
   "cell_type": "code",
   "execution_count": 2,
   "id": "b5e6d8c3-79b5-47d6-8d3b-d841fcf906ae",
   "metadata": {},
   "outputs": [
    {
     "data": {
      "text/plain": [
       "True"
      ]
     },
     "execution_count": 2,
     "metadata": {},
     "output_type": "execute_result"
    }
   ],
   "source": [
    "load_dotenv()"
   ]
  },
  {
   "cell_type": "code",
   "execution_count": 18,
   "id": "ca8c1041-b78e-4744-ab57-0cf622cdb8fa",
   "metadata": {},
   "outputs": [],
   "source": [
    "graph = Neo4jGraph(url=\"neo4j://localhost:7687\",username=\"neo4j\",password=\"neo4j!!!!\",database=\"neo4j\")\n",
    "graph.refresh_schema()"
   ]
  },
  {
   "cell_type": "markdown",
   "id": "4a1f3dd8-404c-4f7b-893a-f5ac9fe186c6",
   "metadata": {},
   "source": [
    "# Query"
   ]
  },
  {
   "cell_type": "code",
   "execution_count": 19,
   "id": "ef09fc6f-394c-44e2-9019-8928d3542967",
   "metadata": {},
   "outputs": [],
   "source": [
    "cypher_chain = GraphCypherQAChain.from_llm(\n",
    "    cypher_llm = AzureChatOpenAI(temperature=0, model_name='chatgpt-sixeu'),\n",
    "    qa_llm = AzureChatOpenAI(temperature=0, model_name='chatgpt-sixeu'), \n",
    "    graph=graph,\n",
    "    verbose=True,\n",
    "    allow_dangerous_requests=True\n",
    ")"
   ]
  },
  {
   "cell_type": "code",
   "execution_count": 15,
   "id": "b75c7f93-2db7-4f48-aaa8-2d752f66c4ba",
   "metadata": {},
   "outputs": [
    {
     "name": "stdout",
     "output_type": "stream",
     "text": [
      "\n",
      "\n",
      "\u001b[1m> Entering new GraphCypherQAChain chain...\u001b[0m\n",
      "Generated Cypher:\n",
      "\u001b[32;1m\u001b[1;3mMATCH (b:Brand {brand: 'BMW'})-[:MAKES]->(m:Model)\n",
      "WHERE m.sop_date > date('1997-01-01')\n",
      "RETURN m.model_name\u001b[0m\n",
      "Full Context:\n",
      "\u001b[32;1m\u001b[1;3m[{'m.model_name': '118i 1.5'}, {'m.model_name': 'M2 Coupe 3.0'}, {'m.model_name': 'M2 Coupe 3.0'}, {'m.model_name': '5 i5 eDrive40'}, {'m.model_name': 'X6 xDrive 3.0 MHEV'}, {'m.model_name': 'XM xDrive 4.4'}, {'m.model_name': 'i8 xDrive Roadster 1.5 PHEV'}, {'m.model_name': 'M8 xDrive Gran Coupe 4.4'}, {'m.model_name': 'M8 xDrive Coupe 4.4'}, {'m.model_name': '530d Gran Turismo 3.0'}]\u001b[0m\n",
      "\n",
      "\u001b[1m> Finished chain.\u001b[0m\n"
     ]
    },
    {
     "data": {
      "text/plain": [
       "{'query': 'List the models that are made by BMW and have sop_date after 1997.',\n",
       " 'result': '118i 1.5, M2 Coupe 3.0, 5 i5 eDrive40, X6 xDrive 3.0 MHEV, XM xDrive 4.4, i8 xDrive Roadster 1.5 PHEV, M8 xDrive Gran Coupe 4.4, M8 xDrive Coupe 4.4, 530d Gran Turismo 3.0'}"
      ]
     },
     "execution_count": 15,
     "metadata": {},
     "output_type": "execute_result"
    }
   ],
   "source": [
    "cypher_chain.invoke(\n",
    "    {\"query\": \"List the models that are made by BMW and have sop_date after 1997.\"}\n",
    ")"
   ]
  },
  {
   "cell_type": "code",
   "execution_count": 27,
   "id": "5df32dec-60ea-41ff-ac96-1a61ef5ab58f",
   "metadata": {},
   "outputs": [
    {
     "name": "stdout",
     "output_type": "stream",
     "text": [
      "\n",
      "\n",
      "\u001b[1m> Entering new GraphCypherQAChain chain...\u001b[0m\n",
      "Generated Cypher:\n",
      "\u001b[32;1m\u001b[1;3mMATCH (m:Model {model_name: 'M2 Coupe 3.0'})-[:DRIVES]->(t:Transmission)\n",
      "RETURN t.transmission_type;\u001b[0m\n",
      "Full Context:\n",
      "\u001b[32;1m\u001b[1;3m[]\u001b[0m\n",
      "\n",
      "\u001b[1m> Finished chain.\u001b[0m\n"
     ]
    },
    {
     "data": {
      "text/plain": [
       "{'query': \"List 'M2 Coupe 3.0' transmissions.\",\n",
       " 'result': \"I don't know the answer.\"}"
      ]
     },
     "execution_count": 27,
     "metadata": {},
     "output_type": "execute_result"
    }
   ],
   "source": [
    "cypher_chain.invoke(\n",
    "    {\"query\": \"List 'M2 Coupe 3.0' transmissions.\"}\n",
    ")"
   ]
  }
 ],
 "metadata": {
  "kernelspec": {
   "display_name": "langchain",
   "language": "python",
   "name": "langchain"
  },
  "language_info": {
   "codemirror_mode": {
    "name": "ipython",
    "version": 3
   },
   "file_extension": ".py",
   "mimetype": "text/x-python",
   "name": "python",
   "nbconvert_exporter": "python",
   "pygments_lexer": "ipython3",
   "version": "3.10.12"
  }
 },
 "nbformat": 4,
 "nbformat_minor": 5
}
