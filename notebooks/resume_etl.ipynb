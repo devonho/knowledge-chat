{
 "cells": [
  {
   "cell_type": "markdown",
   "id": "dc0244d5-ed64-47b8-9d8c-cc6da76d359d",
   "metadata": {},
   "source": [
    "# Dataset"
   ]
  },
  {
   "cell_type": "markdown",
   "id": "56484394-51a0-4c29-8af3-20edeb773d09",
   "metadata": {},
   "source": [
    "[Resume Corpus](https://github.com/florex/resume_corpus)"
   ]
  },
  {
   "cell_type": "markdown",
   "id": "e632ea8e-160d-45eb-9a7b-87d445ed2f1d",
   "metadata": {},
   "source": [
    "# Setup"
   ]
  },
  {
   "cell_type": "code",
   "execution_count": 48,
   "id": "ebff862a-ac07-43ed-bbd3-cba95119c134",
   "metadata": {},
   "outputs": [],
   "source": [
    "import pandas as pd\n",
    "import os\n",
    "import codecs\n",
    "from bs4 import BeautifulSoup \n",
    "import codecs\n",
    "import spacy\n",
    "import anthropic\n",
    "import json\n",
    "import tqdm"
   ]
  },
  {
   "cell_type": "markdown",
   "id": "99702d94-088d-435b-a2cd-1b0a2ef9f9a8",
   "metadata": {},
   "source": [
    "# Extract"
   ]
  },
  {
   "cell_type": "code",
   "execution_count": 36,
   "id": "e269e453-11c6-4746-9692-1afc2fed501e",
   "metadata": {},
   "outputs": [],
   "source": [
    "nlp = spacy.load(\"en_core_web_lg\")\n",
    "\n",
    "def xfm(raw_text):\n",
    "    plain_text = BeautifulSoup(raw_text).text\n",
    "    return plain_text"
   ]
  },
  {
   "cell_type": "code",
   "execution_count": 37,
   "id": "f83f2c2a-e717-467b-81c8-1428e43b5b0a",
   "metadata": {},
   "outputs": [],
   "source": [
    "files = [fn for fn in os.listdir(\"../data/resumes_corpus\") if fn[-4:] == \".lab\" ]"
   ]
  },
  {
   "cell_type": "code",
   "execution_count": 39,
   "id": "2902356a-9a2f-430e-bc5e-d903b1a557dc",
   "metadata": {},
   "outputs": [],
   "source": [
    "recs = []\n",
    "for fn in files:\n",
    "\n",
    "    fn_prefix = fn[:-4]\n",
    "    with codecs.open(\"../data/resumes_corpus/\" + fn_prefix + \".lab\", 'r', encoding='utf-8', errors='ignore') as f:\n",
    "        labels = f.read()         \n",
    "    labels_split = labels.split(\"\\n\")\n",
    "\n",
    "    with codecs.open(\"../data/resumes_corpus/\" + fn_prefix + \".txt\", 'r', encoding='utf-8', errors='ignore') as f:\n",
    "        raw_text = f.read()         \n",
    "    plain_text = xfm(raw_text)\n",
    "    \n",
    "    recs.append({\"id\": fn_prefix, \"labels\": labels_split, \"cv\": plain_text})\n",
    "    "
   ]
  },
  {
   "cell_type": "markdown",
   "id": "f57680b9-de1d-43aa-9c10-3fda5437dae0",
   "metadata": {},
   "source": [
    "# Transform"
   ]
  },
  {
   "cell_type": "code",
   "execution_count": 34,
   "id": "ee92dc4e-5767-4c80-96f0-314842dbf1f4",
   "metadata": {},
   "outputs": [],
   "source": [
    "client = anthropic.Anthropic()\n",
    "\n",
    "with open(\"./system.txt\") as f:\n",
    "    system_msg = f.read()\n",
    "\n",
    "def entity_parsing(cv):\n",
    "    try:\n",
    "        message = client.messages.create(\n",
    "            model=\"claude-3-7-sonnet-20250219\",\n",
    "            max_tokens=4096,\n",
    "            system = system_msg,\n",
    "            messages=[{\"role\": \"user\", \"content\": cv }]\n",
    "            )\n",
    "        return json.loads(message.content[0].text.replace(\"```json\",\"\").replace(\"```\",\"\"))\n",
    "    except Exception as e:\n",
    "        return {}\n"
   ]
  },
  {
   "cell_type": "code",
   "execution_count": 50,
   "id": "9e887422-9b8e-4938-8e9b-bd1bcad89301",
   "metadata": {},
   "outputs": [
    {
     "name": "stderr",
     "output_type": "stream",
     "text": [
      "100%|█████████████████████████████████████████████████████████████████████████████████████████████████████████████████████████████████████████████████████████████████████████████████████████████████████████████████████████████████████████████████████████████████████████████████████████████████████████| 100/100 [14:02<00:00,  8.42s/it]\n"
     ]
    }
   ],
   "source": [
    "for rec in tqdm.tqdm(recs[0:100]):\n",
    "    res = entity_parsing(rec[\"cv\"])\n",
    "    res[\"cv\"] = rec[\"cv\"]\n",
    "    res[\"id\"] = rec[\"id\"]\n",
    "    with open(\"output.jsonl\", \"a\") as f:\n",
    "        f.write(json.dumps(res) + \"\\n\")\n",
    "    "
   ]
  },
  {
   "cell_type": "code",
   "execution_count": null,
   "id": "b2d5b0f5-59f3-4e51-8ff4-125d95af086e",
   "metadata": {},
   "outputs": [],
   "source": []
  }
 ],
 "metadata": {
  "kernelspec": {
   "display_name": "pandas",
   "language": "python",
   "name": "pandas"
  },
  "language_info": {
   "codemirror_mode": {
    "name": "ipython",
    "version": 3
   },
   "file_extension": ".py",
   "mimetype": "text/x-python",
   "name": "python",
   "nbconvert_exporter": "python",
   "pygments_lexer": "ipython3",
   "version": "3.12.7"
  }
 },
 "nbformat": 4,
 "nbformat_minor": 5
}
