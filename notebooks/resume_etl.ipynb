{
 "cells": [
  {
   "cell_type": "markdown",
   "id": "dc0244d5-ed64-47b8-9d8c-cc6da76d359d",
   "metadata": {
    "jp-MarkdownHeadingCollapsed": true
   },
   "source": [
    "# Dataset"
   ]
  },
  {
   "cell_type": "markdown",
   "id": "56484394-51a0-4c29-8af3-20edeb773d09",
   "metadata": {},
   "source": [
    "[Resume Corpus](https://github.com/florex/resume_corpus)"
   ]
  },
  {
   "cell_type": "markdown",
   "id": "e632ea8e-160d-45eb-9a7b-87d445ed2f1d",
   "metadata": {
    "jp-MarkdownHeadingCollapsed": true
   },
   "source": [
    "# Setup"
   ]
  },
  {
   "cell_type": "code",
   "execution_count": 10,
   "id": "ebff862a-ac07-43ed-bbd3-cba95119c134",
   "metadata": {},
   "outputs": [],
   "source": [
    "import pandas as pd\n",
    "import os\n",
    "import codecs\n",
    "from bs4 import BeautifulSoup \n",
    "import codecs\n",
    "import spacy\n",
    "import anthropic\n",
    "import json\n",
    "import tqdm"
   ]
  },
  {
   "cell_type": "markdown",
   "id": "99702d94-088d-435b-a2cd-1b0a2ef9f9a8",
   "metadata": {},
   "source": [
    "# Extract"
   ]
  },
  {
   "cell_type": "code",
   "execution_count": 11,
   "id": "e269e453-11c6-4746-9692-1afc2fed501e",
   "metadata": {},
   "outputs": [],
   "source": [
    "#nlp = spacy.load(\"en_core_web_lg\")\n",
    "\n",
    "def xfm(raw_text):\n",
    "    plain_text = BeautifulSoup(raw_text).text\n",
    "    return plain_text"
   ]
  },
  {
   "cell_type": "code",
   "execution_count": 12,
   "id": "f83f2c2a-e717-467b-81c8-1428e43b5b0a",
   "metadata": {},
   "outputs": [],
   "source": [
    "files = [fn for fn in os.listdir(\"../data/resumes_corpus\") if fn[-4:] == \".lab\" ]"
   ]
  },
  {
   "cell_type": "code",
   "execution_count": 13,
   "id": "2902356a-9a2f-430e-bc5e-d903b1a557dc",
   "metadata": {},
   "outputs": [],
   "source": [
    "recs = []\n",
    "for fn in files:\n",
    "\n",
    "    fn_prefix = fn[:-4]\n",
    "    with codecs.open(\"../data/resumes_corpus/\" + fn_prefix + \".lab\", 'r', encoding='utf-8', errors='ignore') as f:\n",
    "        labels = f.read()         \n",
    "    labels_split = labels.split(\"\\n\")\n",
    "\n",
    "    with codecs.open(\"../data/resumes_corpus/\" + fn_prefix + \".txt\", 'r', encoding='utf-8', errors='ignore') as f:\n",
    "        raw_text = f.read()         \n",
    "    plain_text = xfm(raw_text)\n",
    "    \n",
    "    recs.append({\"id\": fn_prefix, \"labels\": labels_split, \"cv\": plain_text})\n",
    "    "
   ]
  },
  {
   "cell_type": "markdown",
   "id": "f57680b9-de1d-43aa-9c10-3fda5437dae0",
   "metadata": {},
   "source": [
    "# Transform"
   ]
  },
  {
   "cell_type": "code",
   "execution_count": 14,
   "id": "ee92dc4e-5767-4c80-96f0-314842dbf1f4",
   "metadata": {},
   "outputs": [],
   "source": [
    "client = anthropic.Anthropic()\n",
    "\n",
    "with open(\"./system.txt\") as f:\n",
    "    system_msg = f.read()\n",
    "\n",
    "def entity_parsing(cv):\n",
    "    try:\n",
    "        message = client.messages.create(\n",
    "            model=\"claude-3-7-sonnet-20250219\",\n",
    "            max_tokens=4096,\n",
    "            system = system_msg,\n",
    "            messages=[{\"role\": \"user\", \"content\": cv }]\n",
    "            )\n",
    "        return json.loads(message.content[0].text.replace(\"```json\",\"\").replace(\"```\",\"\"))\n",
    "    except Exception as e:\n",
    "        return {}\n"
   ]
  },
  {
   "cell_type": "code",
   "execution_count": null,
   "id": "5f3fdeb9-1223-49c4-a81b-f5ab9e828422",
   "metadata": {},
   "outputs": [],
   "source": [
    "for rec in tqdm.tqdm(recs[0:1000]):\n",
    "    res = entity_parsing(rec[\"cv\"])\n",
    "    res[\"cv\"] = rec[\"cv\"]\n",
    "    res[\"id\"] = rec[\"id\"]\n",
    "    with open(\"output.jsonl\", \"a\") as f:\n",
    "        f.write(json.dumps(res) + \"\\n\")"
   ]
  },
  {
   "cell_type": "markdown",
   "id": "451cb094-75a6-4858-99d5-404ddc09ff61",
   "metadata": {},
   "source": [
    "# Load"
   ]
  },
  {
   "cell_type": "code",
   "execution_count": 19,
   "id": "ba79e227-5fc4-4279-b22d-ffffcf102ef6",
   "metadata": {},
   "outputs": [],
   "source": [
    "from database import MyGraphDB\n",
    "from faker import Faker\n",
    "db = MyGraphDB()"
   ]
  },
  {
   "cell_type": "code",
   "execution_count": 17,
   "id": "fa5fac10-972a-48a6-a9d8-77891b07a5be",
   "metadata": {},
   "outputs": [],
   "source": [
    "with open(\"output.jsonl\") as f:\n",
    "    jsonl = f.readlines()\n",
    "recs = [json.loads(jsn) for jsn in jsonl]"
   ]
  },
  {
   "cell_type": "code",
   "execution_count": 20,
   "id": "841b4186-6f2d-4322-9996-4c08198e4c2f",
   "metadata": {},
   "outputs": [
    {
     "name": "stderr",
     "output_type": "stream",
     "text": [
      "100%|████████████████████████████████████████████████████████████████████████████████████████████████████████████| 340/340 [00:01<00:00, 208.57it/s]\n",
      "100%|█████████████████████████████████████████████████████████████████████████████████████████████████████████| 340/340 [00:00<00:00, 137557.96it/s]\n",
      "100%|█████████████████████████████████████████████████████████████████████████████████████████████████████████████| 340/340 [01:11<00:00,  4.73it/s]\n"
     ]
    }
   ],
   "source": [
    "for rec in tqdm.tqdm(recs):\n",
    "    fake = Faker()\n",
    "    db.add_person(fake.name(), fake.email(), rec[\"id\"])\n",
    "\n",
    "companies = []\n",
    "certs = []\n",
    "skills = []\n",
    "for rec in tqdm.tqdm(recs):\n",
    "    for role in rec['past_roles']:              \n",
    "        companies.append(role['company'])\n",
    "    for cert in rec['certifications']:\n",
    "        certs.append(cert['title'])\n",
    "    for skill in rec['skills']:\n",
    "        skills.append(skill)\n",
    "\n",
    "companies = list(set(companies))\n",
    "certs = list(set(certs))\n",
    "skills = list(set(skills))\n",
    "\n",
    "for c in companies:\n",
    "    db.add_company(c)\n",
    "\n",
    "for c in certs:\n",
    "    db.add_certification(c)\n",
    "\n",
    "for s in skills:\n",
    "    db.add_skill(s)\n",
    "\n",
    "for rec in tqdm.tqdm(recs):\n",
    "    personId = rec[\"id\"]\n",
    "    \n",
    "    for role in rec['past_roles']:        \n",
    "        db.add_WORKED_AT_rel(personId, role['company'], role['role_level'], \"2025-01-01\", \"2025-01-01\")\n",
    "\n",
    "    for cert in rec['certifications']:\n",
    "        db.add_HAS_CERTIFICATION_rel(personId, cert['title'], \"2025-01-01\")\n",
    "\n",
    "    for skill in rec['skills']:\n",
    "        db.add_HAS_SKILL_rel(personId, skill)\n"
   ]
  },
  {
   "cell_type": "code",
   "execution_count": 8,
   "id": "4f7a239b-82d3-4eb1-8ef6-8ca79596f93f",
   "metadata": {},
   "outputs": [
    {
     "data": {
      "text/plain": [
       "'16939'"
      ]
     },
     "execution_count": 8,
     "metadata": {},
     "output_type": "execute_result"
    }
   ],
   "source": [
    "recs[0][\"id\"]"
   ]
  },
  {
   "cell_type": "code",
   "execution_count": 11,
   "id": "e0ac9edb-b3e1-4543-bc04-9dca7d0fa1fa",
   "metadata": {},
   "outputs": [
    {
     "data": {
      "text/plain": [
       "[{'company': 'United States Air Force',\n",
       "  'start_date': 'June 2011',\n",
       "  'end_date': 'Present',\n",
       "  'role_name': 'Network Administrator',\n",
       "  'role_level': 'Manager'}]"
      ]
     },
     "execution_count": 11,
     "metadata": {},
     "output_type": "execute_result"
    }
   ],
   "source": [
    "recs[0][\"past_roles\"]"
   ]
  }
 ],
 "metadata": {
  "kernelspec": {
   "display_name": "pandas",
   "language": "python",
   "name": "pandas"
  },
  "language_info": {
   "codemirror_mode": {
    "name": "ipython",
    "version": 3
   },
   "file_extension": ".py",
   "mimetype": "text/x-python",
   "name": "python",
   "nbconvert_exporter": "python",
   "pygments_lexer": "ipython3",
   "version": "3.12.7"
  }
 },
 "nbformat": 4,
 "nbformat_minor": 5
}
